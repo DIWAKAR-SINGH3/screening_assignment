{
  "nbformat": 4,
  "nbformat_minor": 0,
  "metadata": {
    "colab": {
      "name": "screening test.ipynb",
      "provenance": [],
      "collapsed_sections": []
    },
    "kernelspec": {
      "name": "python3",
      "display_name": "Python 3"
    },
    "language_info": {
      "name": "python"
    }
  },
  "cells": [
    {
      "cell_type": "markdown",
      "source": [
        "# 1. Create a function in python to read the text file and replace specific content of the file."
      ],
      "metadata": {
        "id": "Yddn23SU7-NU"
      }
    },
    {
      "cell_type": "code",
      "execution_count": 9,
      "metadata": {
        "id": "QIRQH9NUCdp8"
      },
      "outputs": [],
      "source": [
        "with open('example.txt','w') as f:\n",
        "  f.write(\"this is a placement assignment\")\n",
        "  f.close()"
      ]
    },
    {
      "cell_type": "code",
      "source": [
        "def replace_string(file_name):\n",
        "  file_name = open(file_name,'r')\n",
        "  file_name = file_name.read()\n",
        "  file_name = file_name.replace('placement', 'screening')\n",
        "  print(file_name)\n",
        "  "
      ],
      "metadata": {
        "id": "_pcFvntcTMOE"
      },
      "execution_count": 10,
      "outputs": []
    },
    {
      "cell_type": "code",
      "source": [
        "replace_string('example.txt')"
      ],
      "metadata": {
        "colab": {
          "base_uri": "https://localhost:8080/"
        },
        "id": "BLe7l4SyTMQf",
        "outputId": "a185b443-83a4-47c7-8ac4-4ab23daeb671"
      },
      "execution_count": 11,
      "outputs": [
        {
          "output_type": "stream",
          "name": "stdout",
          "text": [
            "this is a screening assignment\n"
          ]
        }
      ]
    },
    {
      "cell_type": "markdown",
      "source": [
        "# 2. Demonstrate use of abstract class, multiple inheritance and decorator in python using examples."
      ],
      "metadata": {
        "id": "q1Lj51AT8Asw"
      }
    },
    {
      "cell_type": "markdown",
      "source": [
        "# Abstract class"
      ],
      "metadata": {
        "id": "c31benGSVbBJ"
      }
    },
    {
      "cell_type": "code",
      "source": [
        "from abc import ABC, abstractmethod"
      ],
      "metadata": {
        "id": "rDvFNz6DVfhb"
      },
      "execution_count": 14,
      "outputs": []
    },
    {
      "cell_type": "code",
      "source": [
        "class ineuron:\n",
        "  def pick_course(self):\n",
        "    pass"
      ],
      "metadata": {
        "id": "ZFfQyahSXNIU"
      },
      "execution_count": 15,
      "outputs": []
    },
    {
      "cell_type": "code",
      "source": [
        "class FSDS(ineuron):\n",
        "  def pick_course(self):\n",
        "    print(\"this is ineuron placment gaureentee course\")\n",
        "\n",
        "class course(ineuron):\n",
        "  def pick_course(self):\n",
        "    print(\"machine learning course\")"
      ],
      "metadata": {
        "id": "WqTIUDVjX8kn"
      },
      "execution_count": 17,
      "outputs": []
    },
    {
      "cell_type": "code",
      "source": [
        "ob = ineuron"
      ],
      "metadata": {
        "id": "rNKtJRN1YRtQ"
      },
      "execution_count": 18,
      "outputs": []
    },
    {
      "cell_type": "code",
      "source": [
        "ob1 = FSDS()"
      ],
      "metadata": {
        "id": "XgfGR478q3Uv"
      },
      "execution_count": 21,
      "outputs": []
    },
    {
      "cell_type": "code",
      "source": [
        "ob1.pick_course()"
      ],
      "metadata": {
        "colab": {
          "base_uri": "https://localhost:8080/"
        },
        "id": "twqELuXRqrmR",
        "outputId": "eb36d2da-e5ac-4976-e34e-d0888dfeebba"
      },
      "execution_count": 22,
      "outputs": [
        {
          "output_type": "stream",
          "name": "stdout",
          "text": [
            "this is ineuron placment gaureentee course\n"
          ]
        }
      ]
    },
    {
      "cell_type": "code",
      "source": [
        "ob2 = course()"
      ],
      "metadata": {
        "id": "bXFJpie1quU6"
      },
      "execution_count": 23,
      "outputs": []
    },
    {
      "cell_type": "code",
      "source": [
        "ob2.pick_course()"
      ],
      "metadata": {
        "colab": {
          "base_uri": "https://localhost:8080/"
        },
        "id": "YjFZG_6srdlx",
        "outputId": "38455471-ebed-4225-f68e-b3b42ba335d3"
      },
      "execution_count": 24,
      "outputs": [
        {
          "output_type": "stream",
          "name": "stdout",
          "text": [
            "machine learning course\n"
          ]
        }
      ]
    },
    {
      "cell_type": "code",
      "source": [
        ""
      ],
      "metadata": {
        "id": "64xKO7iArgRN"
      },
      "execution_count": null,
      "outputs": []
    },
    {
      "cell_type": "markdown",
      "source": [
        "# Multiple inheritance"
      ],
      "metadata": {
        "id": "amoSHnyHrk0h"
      }
    },
    {
      "cell_type": "code",
      "source": [
        "class acedemic:\n",
        "  def __init__(self,physics,chemistry,maths):\n",
        "    self.physics = physics\n",
        "    self.chemistry = chemistry\n",
        "    self.maths = maths\n",
        "\n",
        "    print(\"marks entered sucessfully\")\n",
        "\n",
        "class competitive:\n",
        "  def __init__(self,JEE_marks):\n",
        "    self.JEE_marks = JEE_marks\n",
        "\n",
        "    print(\"JEE marks entered sucessfully\")\n",
        "\n",
        "class addmission(acedemic,competitive):\n",
        "  def __init__(self,*args,**kwargs):\n",
        "    #acedemic.__init__(self,*args,**kwargs)\n",
        "    #competitive.__init__(self,*args,**kwargs)\n",
        "    acedemic.__init__(self,*args)\n",
        "    competitive.__init__(self,**kwargs)\n",
        "\n",
        "  \n",
        "    print(\"You are eligible for addmission\")\n",
        "\n"
      ],
      "metadata": {
        "id": "ctuEZ6TJrv-r"
      },
      "execution_count": 35,
      "outputs": []
    },
    {
      "cell_type": "code",
      "source": [
        "obj = addmission(98,78,88,JEE_marks = 120)"
      ],
      "metadata": {
        "colab": {
          "base_uri": "https://localhost:8080/"
        },
        "id": "IJ6pnxvt1bbK",
        "outputId": "00a2cc83-d328-4a27-dd0b-a73c67750a30"
      },
      "execution_count": 39,
      "outputs": [
        {
          "output_type": "stream",
          "name": "stdout",
          "text": [
            "marks entered sucessfully\n",
            "JEE marks entered sucessfully\n",
            "You are eligible for addmission\n"
          ]
        }
      ]
    },
    {
      "cell_type": "code",
      "source": [
        ""
      ],
      "metadata": {
        "id": "ylYTmmJd1lHy"
      },
      "execution_count": null,
      "outputs": []
    },
    {
      "cell_type": "markdown",
      "source": [
        "# Decorator"
      ],
      "metadata": {
        "id": "uYjt03yh3GFO"
      }
    },
    {
      "cell_type": "code",
      "source": [
        "def decorator(funn):\n",
        "  def inside_decorator():\n",
        "    print(\"this function will be called first\")\n",
        "\n",
        "    funn()\n",
        "    print(\"this will called after funn() function\")\n",
        "  return inside_decorator\n",
        "@decorator\n",
        "def passing_funn():\n",
        "  print(\"This is inside decorator function\")\n",
        "  "
      ],
      "metadata": {
        "id": "27lmIPrx3M4O"
      },
      "execution_count": 42,
      "outputs": []
    },
    {
      "cell_type": "code",
      "source": [
        "passing_funn()"
      ],
      "metadata": {
        "colab": {
          "base_uri": "https://localhost:8080/"
        },
        "id": "mFJz1hET7VGO",
        "outputId": "962a826f-ba4e-46ca-fe4d-1ba32e3a0390"
      },
      "execution_count": 43,
      "outputs": [
        {
          "output_type": "stream",
          "name": "stdout",
          "text": [
            "this function will be called first\n",
            "This is inside decorator function\n",
            "this will called after funn() function\n"
          ]
        }
      ]
    },
    {
      "cell_type": "code",
      "source": [
        ""
      ],
      "metadata": {
        "id": "OT1ap8kJ7dq-"
      },
      "execution_count": null,
      "outputs": []
    }
  ]
}